{
 "cells": [
  {
   "cell_type": "code",
   "execution_count": 5,
   "metadata": {
    "collapsed": true
   },
   "outputs": [
    {
     "name": "stdout",
     "output_type": "stream",
     "text": [
      "The slowest run took 8.43 times longer than the fastest. This could mean that an intermediate result is being cached.\n100000 loops, best of 3: 8 µs per loop\n"
     ]
    },
    {
     "name": "stdout",
     "output_type": "stream",
     "text": [
      "100000 loops, best of 3: 5.5 µs per loop\n"
     ]
    }
   ],
   "source": [
    "import numpy as np\n",
    "\n",
    "x = np.random.rand(10,10,2)\n",
    "\n",
    "\n",
    "def epsilon_greedy(state, state_action_value_estimation, epsilon):\n",
    "    pick = round(np.random.binomial(1, epsilon / 2))\n",
    "    possibilities = [(state_action_value_estimation[int(state[0]) - 1, int(state[1]) - 1, :]).argmax(),\n",
    "                     round(np.random.binomial(1, 1 / 2))]\n",
    "    return possibilities[pick]\n",
    "\n",
    "\n",
    "def epsilon_greedy_bis(state, state_action_value_estimation, epsilon):\n",
    "    pick = round(np.random.binomial(1, epsilon / 2))\n",
    "    if pick:\n",
    "        return round(np.random.binomial(1, 1 / 2))\n",
    "    else:\n",
    "        array = state_action_value_estimation[int(state[0]) - 1, int(state[1]) - 1, :]\n",
    "        return array.argmax()\n",
    "\n",
    "\n",
    "%timeit epsilon_greedy([5,2], x, 0.2)\n",
    "%timeit epsilon_greedy_bis([5,2], x, 0.2)"
   ]
  },
  {
   "cell_type": "code",
   "execution_count": null,
   "metadata": {},
   "outputs": [],
   "source": [
    ""
   ]
  }
 ],
 "metadata": {
  "kernelspec": {
   "display_name": "Python 2",
   "language": "python",
   "name": "python2"
  },
  "language_info": {
   "codemirror_mode": {
    "name": "ipython",
    "version": 2.0
   },
   "file_extension": ".py",
   "mimetype": "text/x-python",
   "name": "python",
   "nbconvert_exporter": "python",
   "pygments_lexer": "ipython2",
   "version": "2.7.6"
  }
 },
 "nbformat": 4,
 "nbformat_minor": 0
}